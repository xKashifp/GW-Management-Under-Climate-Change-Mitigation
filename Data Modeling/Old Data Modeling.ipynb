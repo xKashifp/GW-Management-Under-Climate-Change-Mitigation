{
 "cells": [
  {
   "cell_type": "markdown",
   "id": "2d436433",
   "metadata": {
    "id": "2d436433"
   },
   "source": [
    "# <center>${\\textbf{Artificial Intelligence Decision Support System}}$<br>${\\textbf{ for Groundwater Management under Climate Change:}}$</center><br><center>${\\textbf{ Application to Mornag Region in Tunisia}}$</center><br><center>${\\textbf{Old Data Modeling}}$</center>\n"
   ]
  },
  {
   "cell_type": "markdown",
   "id": "d3ad4c8c-1db8-4909-9fa0-c160fd1db295",
   "metadata": {},
   "source": [
    "${\\textbf{Abstract}}$\n",
    "The purpose of this research is to investigate the influence of climate change on GroundWater Level (GWL)  in  Mornag plain in Tunisia. Indeed, due to the spatiotemporal variability of RainFall (RF) and temperature, aquifers all over the world have seen significant water level volatility in recent decades. Therefore, for a reliable GroundWater (GW) management under climate change context, it is essential to analyze and estimate the GWL variability. In this study, we focus on the plain of Mornag, located in the southeast of Tunisia, since it contributes with 33% in the national agricultural production. From this plain, we have collected historical piezometric and RF data covering the period 2005-2015. Knowing the RF data, our goal is to forecast the GWL one. This issue has already been studied using classical numerical GW  modeling such as Modflow and Feflow. Unfortunately, these techniques are data and time consuming. To overcome all these drawbacks, we propose to use an Artificial Intelligence (AI) approach that  has shown great performance in literature for recurrent data modeling and forecasting. This approach corresponds to the Long-Short Term Memory (LSTM) Neural Network. Compared with Modflow, LSTM has shown noticeable enhancement in terms of root mean squared error minimization,  which confirms its  adequacy for GWL forecasting. Using the proposed AI prediction model, the impact of climate change on Mornag GWL has been studied under two Representative Concentration Pathway (RCP) scenarios; RCP 4.5 and RCP 8.5 for three future periods: 2015-2040 (short term), 2041-2065 (medium term) and 2066-2100 (long term). As expected, results reveal a future decline of Mornag GWL. The performed study of future Mornag GWL behavior using LSTM  could classify this AI approach  as a good decision support system that could be used to optimize the management of our limited water resources in order to satisfy the population needs in terms of drinking water and agricultural production, as well as to prevent upcoming drought."
   ]
  },
  {
   "cell_type": "markdown",
   "id": "a6218327",
   "metadata": {
    "id": "a6218327"
   },
   "source": [
    "<a id=\"libraries\"></a>\n",
    "\n",
    "${\\textbf{Importing Libraries}}$"
   ]
  },
  {
   "cell_type": "code",
   "execution_count": 1,
   "id": "cc1f62d2",
   "metadata": {
    "executionInfo": {
     "elapsed": 3088,
     "status": "ok",
     "timestamp": 1656865949781,
     "user": {
      "displayName": "Youssef TFIFHA",
      "userId": "16198604710120868228"
     },
     "user_tz": -60
    },
    "id": "cc1f62d2"
   },
   "outputs": [],
   "source": [
    "%matplotlib inline\n",
    "import warnings\n",
    "warnings.simplefilter(\"ignore\")\n",
    "\n",
    "import numpy as np\n",
    "import pandas as pd\n",
    "\n",
    "import matplotlib.pyplot as plt\n",
    "import seaborn as sns\n",
    "\n",
    "import datetime \n",
    "import time\n",
    "\n",
    "import tensorflow as tf\n",
    "from tensorflow.keras.callbacks import EarlyStopping # EarlyStopping during model training\n",
    "from tensorflow.keras.models import Sequential\n",
    "from tensorflow.keras.layers import LSTM\n",
    "from tensorflow.keras.layers import Dense, Dropout\n",
    "from keras.wrappers.scikit_learn import KerasRegressor\n",
    "\n",
    "from sklearn.model_selection import train_test_split\n",
    "from sklearn.preprocessing import MinMaxScaler\n",
    "from sklearn.metrics import mean_squared_error\n",
    "from sklearn.metrics import mean_absolute_error, accuracy_score\n",
    "from sklearn.preprocessing import LabelEncoder\n",
    "from sklearn.model_selection import  GridSearchCV\n",
    "\n",
    "import xgboost as xgb\n",
    "from xgboost import plot_importance"
   ]
  },
  {
   "cell_type": "code",
   "execution_count": 2,
   "id": "5ce58081",
   "metadata": {},
   "outputs": [],
   "source": [
    "Historical_Data = pd.read_pickle('./Pickles/HistoricalData/OldHistoricalData.pkl')"
   ]
  },
  {
   "cell_type": "markdown",
   "id": "62a87fb3",
   "metadata": {
    "id": "62a87fb3"
   },
   "source": [
    "<a id=\"models\"></a>\n",
    "\n",
    "## ${\\textbf{ Data Modelisation}}$"
   ]
  },
  {
   "cell_type": "markdown",
   "id": "b34fc82d",
   "metadata": {},
   "source": [
    "<a id=\"lstm\"></a>\n",
    "\n",
    ">${\\textbf{LSTM:Long Short Term Memory}}$"
   ]
  },
  {
   "cell_type": "code",
   "execution_count": 3,
   "id": "4398f2c1",
   "metadata": {},
   "outputs": [],
   "source": [
    "df=Historical_Data.copy()\n",
    "list_Year= [d.year for d in df.Time_RF]\n",
    "list_Month= [d.month for d in df.Time_RF]\n",
    "df['Month'] = list_Month\n",
    "df['Year'] = list_Year\n",
    "\n",
    "df.index=df.Time_RF\n",
    "del df['Time_RF']\n",
    "del df['Time_PZ']\n",
    "del df['Lat']\n",
    "del df['RF']\n",
    "del df['Lon']\n",
    "del df['Lat_Pluviometer']\n",
    "del df['Lon_Pluviometer']\n",
    "# df[[col for col in df.columns if df[col].dtypes == object]] = df[[col for col in df.columns if df[col].dtypes == object]].astype('category')\n",
    "lb_make = LabelEncoder()\n",
    "df[\"Piezometer\"] = lb_make.fit_transform(df[\"Piezometer\"])\n",
    "lb_make1 = LabelEncoder()\n",
    "df[\"Pluviometer\"] = lb_make1.fit_transform(df[\"Pluviometer\"])\n",
    "lb_make2 = LabelEncoder()\n",
    "df[\"SPI_classes\"] = lb_make2.fit_transform(df[\"SPI_classes\"])"
   ]
  },
  {
   "cell_type": "code",
   "execution_count": 4,
   "id": "d5d99255",
   "metadata": {},
   "outputs": [
    {
     "data": {
      "text/html": [
       "<div>\n",
       "<style scoped>\n",
       "    .dataframe tbody tr th:only-of-type {\n",
       "        vertical-align: middle;\n",
       "    }\n",
       "\n",
       "    .dataframe tbody tr th {\n",
       "        vertical-align: top;\n",
       "    }\n",
       "\n",
       "    .dataframe thead th {\n",
       "        text-align: right;\n",
       "    }\n",
       "</style>\n",
       "<table border=\"1\" class=\"dataframe\">\n",
       "  <thead>\n",
       "    <tr style=\"text-align: right;\">\n",
       "      <th></th>\n",
       "      <th>Pz</th>\n",
       "      <th>Piezometer</th>\n",
       "      <th>Pluviometer</th>\n",
       "      <th>YearlyRF</th>\n",
       "      <th>SemestrialRF</th>\n",
       "      <th>TrimestrialRF</th>\n",
       "      <th>MonthlyRF</th>\n",
       "      <th>Zone</th>\n",
       "      <th>SPI</th>\n",
       "      <th>SPI_classes</th>\n",
       "      <th>Month</th>\n",
       "      <th>Year</th>\n",
       "    </tr>\n",
       "    <tr>\n",
       "      <th>Time_RF</th>\n",
       "      <th></th>\n",
       "      <th></th>\n",
       "      <th></th>\n",
       "      <th></th>\n",
       "      <th></th>\n",
       "      <th></th>\n",
       "      <th></th>\n",
       "      <th></th>\n",
       "      <th></th>\n",
       "      <th></th>\n",
       "      <th></th>\n",
       "      <th></th>\n",
       "    </tr>\n",
       "  </thead>\n",
       "  <tbody>\n",
       "    <tr>\n",
       "      <th>2005-01-09</th>\n",
       "      <td>53.433000</td>\n",
       "      <td>30</td>\n",
       "      <td>7</td>\n",
       "      <td>204.2</td>\n",
       "      <td>204.2</td>\n",
       "      <td>28.1</td>\n",
       "      <td>28.1</td>\n",
       "      <td>1</td>\n",
       "      <td>-0.236898</td>\n",
       "      <td>2</td>\n",
       "      <td>1</td>\n",
       "      <td>2005</td>\n",
       "    </tr>\n",
       "    <tr>\n",
       "      <th>2005-02-09</th>\n",
       "      <td>53.433000</td>\n",
       "      <td>30</td>\n",
       "      <td>7</td>\n",
       "      <td>204.2</td>\n",
       "      <td>204.2</td>\n",
       "      <td>28.1</td>\n",
       "      <td>28.1</td>\n",
       "      <td>1</td>\n",
       "      <td>-0.236898</td>\n",
       "      <td>2</td>\n",
       "      <td>2</td>\n",
       "      <td>2005</td>\n",
       "    </tr>\n",
       "    <tr>\n",
       "      <th>2005-03-09</th>\n",
       "      <td>53.433000</td>\n",
       "      <td>30</td>\n",
       "      <td>7</td>\n",
       "      <td>204.2</td>\n",
       "      <td>204.2</td>\n",
       "      <td>28.1</td>\n",
       "      <td>28.1</td>\n",
       "      <td>1</td>\n",
       "      <td>-0.236898</td>\n",
       "      <td>2</td>\n",
       "      <td>3</td>\n",
       "      <td>2005</td>\n",
       "    </tr>\n",
       "    <tr>\n",
       "      <th>2005-04-09</th>\n",
       "      <td>53.433000</td>\n",
       "      <td>30</td>\n",
       "      <td>7</td>\n",
       "      <td>204.2</td>\n",
       "      <td>204.2</td>\n",
       "      <td>28.1</td>\n",
       "      <td>28.1</td>\n",
       "      <td>1</td>\n",
       "      <td>-0.236898</td>\n",
       "      <td>2</td>\n",
       "      <td>4</td>\n",
       "      <td>2005</td>\n",
       "    </tr>\n",
       "    <tr>\n",
       "      <th>2005-05-09</th>\n",
       "      <td>53.433000</td>\n",
       "      <td>30</td>\n",
       "      <td>7</td>\n",
       "      <td>204.2</td>\n",
       "      <td>204.2</td>\n",
       "      <td>28.1</td>\n",
       "      <td>28.1</td>\n",
       "      <td>1</td>\n",
       "      <td>-0.236898</td>\n",
       "      <td>2</td>\n",
       "      <td>5</td>\n",
       "      <td>2005</td>\n",
       "    </tr>\n",
       "    <tr>\n",
       "      <th>...</th>\n",
       "      <td>...</td>\n",
       "      <td>...</td>\n",
       "      <td>...</td>\n",
       "      <td>...</td>\n",
       "      <td>...</td>\n",
       "      <td>...</td>\n",
       "      <td>...</td>\n",
       "      <td>...</td>\n",
       "      <td>...</td>\n",
       "      <td>...</td>\n",
       "      <td>...</td>\n",
       "      <td>...</td>\n",
       "    </tr>\n",
       "    <tr>\n",
       "      <th>2015-08-27</th>\n",
       "      <td>44.770923</td>\n",
       "      <td>40</td>\n",
       "      <td>12</td>\n",
       "      <td>294.3</td>\n",
       "      <td>38.5</td>\n",
       "      <td>38.5</td>\n",
       "      <td>38.5</td>\n",
       "      <td>2</td>\n",
       "      <td>-0.236898</td>\n",
       "      <td>2</td>\n",
       "      <td>8</td>\n",
       "      <td>2015</td>\n",
       "    </tr>\n",
       "    <tr>\n",
       "      <th>2015-08-28</th>\n",
       "      <td>44.770923</td>\n",
       "      <td>40</td>\n",
       "      <td>12</td>\n",
       "      <td>294.3</td>\n",
       "      <td>38.5</td>\n",
       "      <td>38.5</td>\n",
       "      <td>38.5</td>\n",
       "      <td>2</td>\n",
       "      <td>-0.236898</td>\n",
       "      <td>2</td>\n",
       "      <td>8</td>\n",
       "      <td>2015</td>\n",
       "    </tr>\n",
       "    <tr>\n",
       "      <th>2015-08-29</th>\n",
       "      <td>44.770923</td>\n",
       "      <td>40</td>\n",
       "      <td>12</td>\n",
       "      <td>294.3</td>\n",
       "      <td>38.5</td>\n",
       "      <td>38.5</td>\n",
       "      <td>38.5</td>\n",
       "      <td>2</td>\n",
       "      <td>-0.236898</td>\n",
       "      <td>2</td>\n",
       "      <td>8</td>\n",
       "      <td>2015</td>\n",
       "    </tr>\n",
       "    <tr>\n",
       "      <th>2015-08-30</th>\n",
       "      <td>44.770923</td>\n",
       "      <td>40</td>\n",
       "      <td>12</td>\n",
       "      <td>294.3</td>\n",
       "      <td>38.5</td>\n",
       "      <td>38.5</td>\n",
       "      <td>38.5</td>\n",
       "      <td>2</td>\n",
       "      <td>-0.236898</td>\n",
       "      <td>2</td>\n",
       "      <td>8</td>\n",
       "      <td>2015</td>\n",
       "    </tr>\n",
       "    <tr>\n",
       "      <th>2015-08-31</th>\n",
       "      <td>44.770923</td>\n",
       "      <td>40</td>\n",
       "      <td>12</td>\n",
       "      <td>294.3</td>\n",
       "      <td>38.5</td>\n",
       "      <td>38.5</td>\n",
       "      <td>38.5</td>\n",
       "      <td>2</td>\n",
       "      <td>-0.236898</td>\n",
       "      <td>2</td>\n",
       "      <td>8</td>\n",
       "      <td>2015</td>\n",
       "    </tr>\n",
       "  </tbody>\n",
       "</table>\n",
       "<p>285480 rows × 12 columns</p>\n",
       "</div>"
      ],
      "text/plain": [
       "                   Pz  Piezometer  Pluviometer  YearlyRF  SemestrialRF  \\\n",
       "Time_RF                                                                  \n",
       "2005-01-09  53.433000          30            7     204.2         204.2   \n",
       "2005-02-09  53.433000          30            7     204.2         204.2   \n",
       "2005-03-09  53.433000          30            7     204.2         204.2   \n",
       "2005-04-09  53.433000          30            7     204.2         204.2   \n",
       "2005-05-09  53.433000          30            7     204.2         204.2   \n",
       "...               ...         ...          ...       ...           ...   \n",
       "2015-08-27  44.770923          40           12     294.3          38.5   \n",
       "2015-08-28  44.770923          40           12     294.3          38.5   \n",
       "2015-08-29  44.770923          40           12     294.3          38.5   \n",
       "2015-08-30  44.770923          40           12     294.3          38.5   \n",
       "2015-08-31  44.770923          40           12     294.3          38.5   \n",
       "\n",
       "            TrimestrialRF  MonthlyRF  Zone       SPI  SPI_classes  Month  Year  \n",
       "Time_RF                                                                         \n",
       "2005-01-09           28.1       28.1     1 -0.236898            2      1  2005  \n",
       "2005-02-09           28.1       28.1     1 -0.236898            2      2  2005  \n",
       "2005-03-09           28.1       28.1     1 -0.236898            2      3  2005  \n",
       "2005-04-09           28.1       28.1     1 -0.236898            2      4  2005  \n",
       "2005-05-09           28.1       28.1     1 -0.236898            2      5  2005  \n",
       "...                   ...        ...   ...       ...          ...    ...   ...  \n",
       "2015-08-27           38.5       38.5     2 -0.236898            2      8  2015  \n",
       "2015-08-28           38.5       38.5     2 -0.236898            2      8  2015  \n",
       "2015-08-29           38.5       38.5     2 -0.236898            2      8  2015  \n",
       "2015-08-30           38.5       38.5     2 -0.236898            2      8  2015  \n",
       "2015-08-31           38.5       38.5     2 -0.236898            2      8  2015  \n",
       "\n",
       "[285480 rows x 12 columns]"
      ]
     },
     "execution_count": 4,
     "metadata": {},
     "output_type": "execute_result"
    }
   ],
   "source": [
    "column=['Pz','Piezometer', 'Pluviometer', 'YearlyRF', 'SemestrialRF',\n",
    "       'TrimestrialRF', 'MonthlyRF', 'Zone', 'SPI', 'SPI_classes', 'Month',\n",
    "       'Year']#Reindexing\n",
    "df=df.reindex(column, axis='columns')\n",
    "df"
   ]
  },
  {
   "cell_type": "code",
   "execution_count": 5,
   "id": "18cff3e3",
   "metadata": {},
   "outputs": [
    {
     "data": {
      "text/plain": [
       "Index(['Pz', 'Piezometer', 'Pluviometer', 'YearlyRF', 'SemestrialRF',\n",
       "       'TrimestrialRF', 'MonthlyRF', 'Zone', 'SPI', 'SPI_classes', 'Month',\n",
       "       'Year'],\n",
       "      dtype='object')"
      ]
     },
     "execution_count": 5,
     "metadata": {},
     "output_type": "execute_result"
    }
   ],
   "source": [
    "df.columns"
   ]
  },
  {
   "cell_type": "code",
   "execution_count": 6,
   "id": "d9c55989",
   "metadata": {},
   "outputs": [
    {
     "data": {
      "text/plain": [
       "(285480, 12)"
      ]
     },
     "execution_count": 6,
     "metadata": {},
     "output_type": "execute_result"
    }
   ],
   "source": [
    "df.shape"
   ]
  },
  {
   "cell_type": "code",
   "execution_count": 7,
   "id": "3677463c",
   "metadata": {},
   "outputs": [
    {
     "data": {
      "text/plain": [
       "85644"
      ]
     },
     "execution_count": 7,
     "metadata": {},
     "output_type": "execute_result"
    }
   ],
   "source": [
    "test_split=round(len(df)*0.30)\n",
    "test_split"
   ]
  },
  {
   "cell_type": "code",
   "execution_count": 8,
   "id": "580159a3",
   "metadata": {},
   "outputs": [
    {
     "name": "stdout",
     "output_type": "stream",
     "text": [
      "(199836, 12)\n",
      "(85644, 12)\n"
     ]
    }
   ],
   "source": [
    "df_for_training=df[:-test_split]\n",
    "df_for_testing=df[-test_split:]\n",
    "print(df_for_training.shape)\n",
    "print(df_for_testing.shape)"
   ]
  },
  {
   "cell_type": "code",
   "execution_count": 9,
   "id": "732efc0b",
   "metadata": {},
   "outputs": [
    {
     "data": {
      "text/plain": [
       "array([[0.99796646, 0.69767442, 0.41176471, ..., 0.66666667, 0.        ,\n",
       "        0.        ],\n",
       "       [0.99796646, 0.69767442, 0.41176471, ..., 0.66666667, 0.09090909,\n",
       "        0.        ],\n",
       "       [0.99796646, 0.69767442, 0.41176471, ..., 0.66666667, 0.18181818,\n",
       "        0.        ],\n",
       "       ...,\n",
       "       [0.29348088, 0.86046512, 0.76470588, ..., 0.66666667, 0.09090909,\n",
       "        0.6       ],\n",
       "       [0.29348088, 0.86046512, 0.76470588, ..., 0.66666667, 0.18181818,\n",
       "        0.6       ],\n",
       "       [0.29348088, 0.86046512, 0.76470588, ..., 0.66666667, 0.27272727,\n",
       "        0.6       ]])"
      ]
     },
     "execution_count": 9,
     "metadata": {},
     "output_type": "execute_result"
    }
   ],
   "source": [
    "scaler = MinMaxScaler(feature_range=(0,1))\n",
    "df_for_training_scaled = scaler.fit_transform(df_for_training)\n",
    "df_for_testing_scaled=scaler.transform(df_for_testing)\n",
    "df_for_training_scaled"
   ]
  },
  {
   "cell_type": "code",
   "execution_count": 10,
   "id": "cecb3775",
   "metadata": {},
   "outputs": [],
   "source": [
    "def createXY(dataset,n_past):\n",
    "    dataX = []\n",
    "    dataY = []\n",
    "    for i in range(n_past, len(dataset)):\n",
    "            dataX.append(dataset[i - n_past:i, 0:dataset.shape[1]])\n",
    "            dataY.append(dataset[i,0])\n",
    "    return np.array(dataX),np.array(dataY)\n",
    "\n",
    "trainX,trainY=createXY(df_for_training_scaled,30)\n",
    "testX,testY=createXY(df_for_testing_scaled,30)"
   ]
  },
  {
   "cell_type": "code",
   "execution_count": 11,
   "id": "08dc7074",
   "metadata": {},
   "outputs": [
    {
     "name": "stdout",
     "output_type": "stream",
     "text": [
      "trainX Shape--  (199806, 30, 12)\n",
      "trainY Shape--  (199806,)\n"
     ]
    }
   ],
   "source": [
    "print(\"trainX Shape-- \",trainX.shape)\n",
    "print(\"trainY Shape-- \",trainY.shape)"
   ]
  },
  {
   "cell_type": "code",
   "execution_count": 12,
   "id": "1aa9faf7",
   "metadata": {},
   "outputs": [
    {
     "name": "stdout",
     "output_type": "stream",
     "text": [
      "testX Shape--  (85614, 30, 12)\n",
      "testY Shape--  (85614,)\n"
     ]
    }
   ],
   "source": [
    "print(\"testX Shape-- \",testX.shape)\n",
    "print(\"testY Shape-- \",testY.shape)"
   ]
  },
  {
   "cell_type": "code",
   "execution_count": 13,
   "id": "9bc278fb",
   "metadata": {},
   "outputs": [
    {
     "name": "stdout",
     "output_type": "stream",
     "text": [
      "trainX[0]-- \n",
      " [[0.99796646 0.69767442 0.41176471 0.12776776 0.37933083 0.12755334\n",
      "  0.13438546 0.         0.         0.66666667 0.         0.        ]\n",
      " [0.99796646 0.69767442 0.41176471 0.12776776 0.37933083 0.12755334\n",
      "  0.13438546 0.         0.         0.66666667 0.09090909 0.        ]\n",
      " [0.99796646 0.69767442 0.41176471 0.12776776 0.37933083 0.12755334\n",
      "  0.13438546 0.         0.         0.66666667 0.18181818 0.        ]\n",
      " [0.99796646 0.69767442 0.41176471 0.12776776 0.37933083 0.12755334\n",
      "  0.13438546 0.         0.         0.66666667 0.27272727 0.        ]\n",
      " [0.99796646 0.69767442 0.41176471 0.12776776 0.37933083 0.12755334\n",
      "  0.13438546 0.         0.         0.66666667 0.36363636 0.        ]\n",
      " [0.99796646 0.69767442 0.41176471 0.12776776 0.37933083 0.12755334\n",
      "  0.13438546 0.         0.         0.66666667 0.45454545 0.        ]\n",
      " [0.99796646 0.69767442 0.41176471 0.12776776 0.37933083 0.12755334\n",
      "  0.13438546 0.         0.         0.66666667 0.54545455 0.        ]\n",
      " [0.99796646 0.69767442 0.41176471 0.12776776 0.37933083 0.12755334\n",
      "  0.13438546 0.         0.         0.66666667 0.63636364 0.        ]\n",
      " [0.99796646 0.69767442 0.41176471 0.12776776 0.37933083 0.12755334\n",
      "  0.13438546 0.         0.02857143 0.33333333 0.72727273 0.        ]\n",
      " [0.99796646 0.69767442 0.41176471 0.12776776 0.37933083 0.12755334\n",
      "  0.13438546 0.         0.         0.66666667 0.81818182 0.        ]\n",
      " [0.99796646 0.69767442 0.41176471 0.12776776 0.37933083 0.12755334\n",
      "  0.13438546 0.         0.         0.66666667 0.90909091 0.        ]\n",
      " [0.99796646 0.69767442 0.41176471 0.12776776 0.37933083 0.12755334\n",
      "  0.13438546 0.         0.00685714 0.66666667 1.         0.        ]\n",
      " [0.99796646 0.69767442 0.41176471 0.12776776 0.37933083 0.12755334\n",
      "  0.13438546 0.         0.         0.66666667 0.72727273 0.        ]\n",
      " [0.99796646 0.69767442 0.41176471 0.12776776 0.37933083 0.12755334\n",
      "  0.13438546 0.         0.         0.66666667 0.72727273 0.        ]\n",
      " [0.99796646 0.69767442 0.41176471 0.12776776 0.37933083 0.12755334\n",
      "  0.13438546 0.         0.         0.66666667 0.72727273 0.        ]\n",
      " [0.99796646 0.69767442 0.41176471 0.12776776 0.37933083 0.12755334\n",
      "  0.13438546 0.         0.         0.66666667 0.72727273 0.        ]\n",
      " [0.99796646 0.69767442 0.41176471 0.12776776 0.37933083 0.12755334\n",
      "  0.13438546 0.         0.         0.66666667 0.72727273 0.        ]\n",
      " [0.99796646 0.69767442 0.41176471 0.12776776 0.37933083 0.12755334\n",
      "  0.13438546 0.         0.         0.66666667 0.72727273 0.        ]\n",
      " [0.99796646 0.69767442 0.41176471 0.12776776 0.37933083 0.12755334\n",
      "  0.13438546 0.         0.26285714 0.         0.72727273 0.        ]\n",
      " [0.99796646 0.69767442 0.41176471 0.12776776 0.37933083 0.12755334\n",
      "  0.13438546 0.         0.         0.66666667 0.72727273 0.        ]\n",
      " [0.99796646 0.69767442 0.41176471 0.12776776 0.37933083 0.12755334\n",
      "  0.13438546 0.         0.         0.66666667 0.72727273 0.        ]\n",
      " [0.99796646 0.69767442 0.41176471 0.12776776 0.37933083 0.12755334\n",
      "  0.13438546 0.         0.         0.66666667 0.72727273 0.        ]\n",
      " [0.99796646 0.69767442 0.41176471 0.12776776 0.37933083 0.12755334\n",
      "  0.13438546 0.         0.         0.66666667 0.72727273 0.        ]\n",
      " [0.99796646 0.69767442 0.41176471 0.12776776 0.37933083 0.12755334\n",
      "  0.13438546 0.         0.         0.66666667 0.72727273 0.        ]\n",
      " [0.99796646 0.69767442 0.41176471 0.12776776 0.37933083 0.12755334\n",
      "  0.13438546 0.         0.         0.66666667 0.72727273 0.        ]\n",
      " [0.99796646 0.69767442 0.41176471 0.12776776 0.37933083 0.12755334\n",
      "  0.13438546 0.         0.         0.66666667 0.72727273 0.        ]\n",
      " [0.99796646 0.69767442 0.41176471 0.12776776 0.37933083 0.12755334\n",
      "  0.13438546 0.         0.         0.66666667 0.72727273 0.        ]\n",
      " [0.99796646 0.69767442 0.41176471 0.12776776 0.37933083 0.12755334\n",
      "  0.13438546 0.         0.         0.66666667 0.72727273 0.        ]\n",
      " [0.99796646 0.69767442 0.41176471 0.12776776 0.37933083 0.12755334\n",
      "  0.13438546 0.         0.         0.66666667 0.72727273 0.        ]\n",
      " [0.99796646 0.69767442 0.41176471 0.12776776 0.37933083 0.12755334\n",
      "  0.13438546 0.         0.02285714 0.33333333 0.72727273 0.        ]]\n",
      "trainY[0]--  0.9979664554536425\n"
     ]
    }
   ],
   "source": [
    "print(\"trainX[0]-- \\n\",trainX[0])\n",
    "print(\"trainY[0]-- \",trainY[0])"
   ]
  },
  {
   "cell_type": "code",
   "execution_count": 14,
   "id": "600f12bd",
   "metadata": {},
   "outputs": [
    {
     "data": {
      "text/plain": [
       "(30, 12)"
      ]
     },
     "execution_count": 14,
     "metadata": {},
     "output_type": "execute_result"
    }
   ],
   "source": [
    "trainX.shape[1],trainX.shape[2]"
   ]
  },
  {
   "cell_type": "code",
   "execution_count": 15,
   "id": "a852142b",
   "metadata": {},
   "outputs": [],
   "source": [
    "# def build_model():\n",
    "#     grid_model = Sequential()\n",
    "#     grid_model.add(LSTM(50,return_sequences=True,input_shape=(30,12)))\n",
    "#     grid_model.add(LSTM(50))\n",
    "#     grid_model.add(Dropout(0.2))\n",
    "#     grid_model.add(Dense(1))\n",
    "#     grid_model.compile(loss = 'mse',optimizer = 'adam')\n",
    "#     return grid_model\n",
    "  \n",
    "# grid_model = KerasRegressor(build_fn=build_model,verbose=1,validation_data=(testX,testY))\n",
    "\n",
    "# parameters = {'batch_size' : [10,20],\n",
    "#               'epochs' : [30,50]\n",
    "#              }\n",
    "\n",
    "# grid_search  = GridSearchCV(estimator = grid_model,\n",
    "#                             param_grid = parameters,\n",
    "#                             cv = 2)"
   ]
  },
  {
   "cell_type": "code",
   "execution_count": 16,
   "id": "bfcc69a9",
   "metadata": {},
   "outputs": [],
   "source": [
    "# start_time = time.time()\n",
    "# grid_search = grid_search.fit(trainX,trainY)\n",
    "# dt_timeLSTM= (time.time() - start_time)\n",
    "from keras import backend as K\n",
    "\n",
    "def root_mean_squared_error(y_true, y_pred):\n",
    "        return K.sqrt(K.mean(K.square(y_pred - y_true))) \n"
   ]
  },
  {
   "cell_type": "code",
   "execution_count": 17,
   "id": "dcc8874a-0f54-4d44-8008-297cdcc21040",
   "metadata": {},
   "outputs": [
    {
     "name": "stdout",
     "output_type": "stream",
     "text": [
      "Epoch 1/8\n",
      "391/391 [==============================] - 9s 13ms/step - loss: 0.7948 - accuracy: 0.0054 - val_loss: 0.0313 - val_accuracy: 0.0000e+00\n",
      "Epoch 2/8\n",
      "391/391 [==============================] - 4s 11ms/step - loss: 0.0408 - accuracy: 0.0055 - val_loss: 0.0264 - val_accuracy: 0.0000e+00\n",
      "Epoch 3/8\n",
      "391/391 [==============================] - 4s 11ms/step - loss: 0.0363 - accuracy: 0.0055 - val_loss: 0.0251 - val_accuracy: 0.0000e+00\n",
      "Epoch 4/8\n",
      "391/391 [==============================] - 5s 12ms/step - loss: 0.0334 - accuracy: 0.0055 - val_loss: 0.0237 - val_accuracy: 0.0000e+00\n",
      "Epoch 5/8\n",
      "391/391 [==============================] - 4s 11ms/step - loss: 0.0315 - accuracy: 0.0055 - val_loss: 0.0231 - val_accuracy: 0.0000e+00\n",
      "Epoch 6/8\n",
      "391/391 [==============================] - 4s 11ms/step - loss: 0.0307 - accuracy: 0.0055 - val_loss: 0.0233 - val_accuracy: 0.0000e+00\n",
      "Epoch 7/8\n",
      "391/391 [==============================] - 4s 11ms/step - loss: 0.0298 - accuracy: 0.0055 - val_loss: 0.0244 - val_accuracy: 0.0000e+00\n",
      "Epoch 8/8\n",
      "391/391 [==============================] - 4s 11ms/step - loss: 0.0294 - accuracy: 0.0055 - val_loss: 0.0213 - val_accuracy: 0.0000e+00\n"
     ]
    }
   ],
   "source": [
    "model = Sequential()\n",
    "model.add(LSTM(50,return_sequences=True,input_shape=(30,12),recurrent_regularizer='l1_l2'))\n",
    "model.add(LSTM(50))\n",
    "model.add(Dropout(0.2))\n",
    "model.add(Dense(1))\n",
    "model.compile(loss=root_mean_squared_error, optimizer='adam',metrics=['accuracy'])\n",
    "start_time = time.time()\n",
    "history=model.fit(trainX, trainY, epochs=8, batch_size=512,validation_data=(testX,testY))\n",
    "dt_timeLSTM= (time.time() - start_time)"
   ]
  },
  {
   "cell_type": "code",
   "execution_count": 18,
   "id": "393bdfdc-9052-4c9d-95b6-7e2fe247c839",
   "metadata": {},
   "outputs": [
    {
     "data": {
      "text/plain": [
       "39.72429943084717"
      ]
     },
     "execution_count": 18,
     "metadata": {},
     "output_type": "execute_result"
    }
   ],
   "source": [
    "dt_timeLSTM"
   ]
  },
  {
   "cell_type": "code",
   "execution_count": 19,
   "id": "4534af80",
   "metadata": {},
   "outputs": [
    {
     "name": "stdout",
     "output_type": "stream",
     "text": [
      "2676/2676 [==============================] - 9s 3ms/step\n",
      "prediction\n",
      " [[0.29550725]\n",
      " [0.2952548 ]\n",
      " [0.29496077]\n",
      " ...\n",
      " [0.86184096]\n",
      " [0.8615543 ]\n",
      " [0.8615301 ]]\n",
      "\n",
      "Prediction Shape- (85614, 1)\n"
     ]
    }
   ],
   "source": [
    "prediction=history.model.predict(testX)\n",
    "print(\"prediction\\n\", prediction)\n",
    "print(\"\\nPrediction Shape-\",prediction.shape)"
   ]
  },
  {
   "cell_type": "code",
   "execution_count": 20,
   "id": "fb6647c6",
   "metadata": {},
   "outputs": [],
   "source": [
    "prediction_copies_array = np.repeat(prediction,12, axis=-1)"
   ]
  },
  {
   "cell_type": "code",
   "execution_count": 21,
   "id": "03d014f6",
   "metadata": {},
   "outputs": [
    {
     "data": {
      "text/plain": [
       "(85614, 12)"
      ]
     },
     "execution_count": 21,
     "metadata": {},
     "output_type": "execute_result"
    }
   ],
   "source": [
    "prediction_copies_array.shape"
   ]
  },
  {
   "cell_type": "code",
   "execution_count": 22,
   "id": "21449c8c",
   "metadata": {},
   "outputs": [],
   "source": [
    "pred=scaler.inverse_transform(np.reshape(prediction_copies_array,(len(prediction),12)))[:,0]"
   ]
  },
  {
   "cell_type": "code",
   "execution_count": 23,
   "id": "e4789065",
   "metadata": {},
   "outputs": [],
   "source": [
    "original_copies_array = np.repeat(testY,12, axis=-1)\n",
    "original=scaler.inverse_transform(np.reshape(original_copies_array,(len(testY),12)))[:,0]"
   ]
  },
  {
   "cell_type": "code",
   "execution_count": 24,
   "id": "305de469",
   "metadata": {},
   "outputs": [
    {
     "name": "stdout",
     "output_type": "stream",
     "text": [
      "Pred Values--  [ 5.07198   5.0546    5.034357 ... 44.061398 44.041664 44.039997]\n",
      "\n",
      "Original Values--  [ 4.93247368  4.93247368  4.93247368 ... 44.77092308 44.77092308\n",
      " 44.77092308]\n"
     ]
    }
   ],
   "source": [
    "print(\"Pred Values-- \" ,pred)\n",
    "print(\"\\nOriginal Values-- \" ,original)"
   ]
  },
  {
   "cell_type": "code",
   "execution_count": 25,
   "id": "37573d28",
   "metadata": {},
   "outputs": [
    {
     "data": {
      "text/plain": [
       "0.7459242932532619"
      ]
     },
     "execution_count": 25,
     "metadata": {},
     "output_type": "execute_result"
    }
   ],
   "source": [
    "np.sqrt(mean_squared_error(pred,original))"
   ]
  },
  {
   "cell_type": "code",
   "execution_count": 26,
   "id": "716c7b55-772e-47e8-92e9-35f28b210f7e",
   "metadata": {},
   "outputs": [
    {
     "name": "stdout",
     "output_type": "stream",
     "text": [
      "{'loss': [0.7947871088981628, 0.04081392660737038, 0.036260802298784256, 0.03342805802822113, 0.031484853476285934, 0.030748214572668076, 0.02977105788886547, 0.02941046841442585], 'accuracy': [0.005385223776102066, 0.005500335246324539, 0.005500335246324539, 0.005500335246324539, 0.005500335246324539, 0.005500335246324539, 0.005500335246324539, 0.005500335246324539], 'val_loss': [0.03132588043808937, 0.026446398347616196, 0.025098765268921852, 0.023672686889767647, 0.023053988814353943, 0.023285970091819763, 0.024361537769436836, 0.021287396550178528], 'val_accuracy': [0.0, 0.0, 0.0, 0.0, 0.0, 0.0, 0.0, 0.0]}\n",
      "dict_keys(['loss', 'accuracy', 'val_loss', 'val_accuracy'])\n"
     ]
    }
   ],
   "source": [
    "print(history.history)\n",
    "print(history.history.keys())"
   ]
  },
  {
   "cell_type": "code",
   "execution_count": 27,
   "id": "6e7a53fb-f87b-4d30-8901-9b844f4e4303",
   "metadata": {},
   "outputs": [
    {
     "data": {
      "image/png": "[encoded data removed]",
      "text/plain": [
       "<Figure size 432x288 with 1 Axes>"
      ]
     },
     "metadata": {
      "needs_background": "light"
     },
     "output_type": "display_data"
    }
   ],
   "source": [
    "# list all data in history\n",
    "# print(history.history.keys())\n",
    "# summarize history for loss\n",
    "\n",
    "plt.plot(history.history['loss'],'r--', label='Training loss')\n",
    "plt.plot(history.history['val_loss'] ,'b', label='Testing loss')\n",
    "plt.ylabel('RMSE')\n",
    "plt.xlabel('epoch')\n",
    "plt.rcParams['font.size'] = '14'\n",
    "plt.yscale('log')\n",
    "plt.legend(['Training loss', 'Testing loss'] ,loc=0)\n",
    "plt.show()"
   ]
  },
  {
   "cell_type": "code",
   "execution_count": 28,
   "id": "0a0f20f3",
   "metadata": {},
   "outputs": [],
   "source": [
    "history.model.save('./../Pickles/Models/OldLSTM.h5')\n",
    "np.save('./../Pickles/Models/Oldhistory.npy',history.history)\n",
    "\n",
    "# history=np.load('my_history.npy',allow_pickle='TRUE').item()\n",
    "# Recreate the exact same model, including its weights and the optimizer\n",
    "# new_model = tf.keras.models.load_model('my_modelLSTM.h5')\n",
    "\n",
    "# # Show the model architecture\n",
    "# new_model.summary()"
   ]
  },
  {
   "cell_type": "code",
   "execution_count": 29,
   "id": "3305e8c2-c711-471f-be49-555000436b27",
   "metadata": {},
   "outputs": [
    {
     "name": "stdout",
     "output_type": "stream",
     "text": [
      " Global Root Mean Square Error (RMSE): 0.75\n"
     ]
    }
   ],
   "source": [
    "Test=pd.DataFrame()\n",
    "Test[\"Piezometer\"]=Historical_Data.Piezometer.sample(85614)\n",
    "Test[\"Actual\"]=original\n",
    "Test[\"Predicted\"]=pred\n",
    "RMSE=np.sqrt(mean_squared_error(Test.Actual,Test.Predicted))\n",
    "\n",
    "print(f' Global Root Mean Square Error (RMSE): {np.round(RMSE, 2)}')"
   ]
  },
  {
   "cell_type": "code",
   "execution_count": 30,
   "id": "0dcfdd3a-a287-45ea-8ae5-49dfc5089e53",
   "metadata": {},
   "outputs": [
    {
     "name": "stdout",
     "output_type": "stream",
     "text": [
      "Piezometer 0: Ali El Almi : Root Mean Square Error (RMSE): 0.41\n",
      "Piezometer 1: Hachmi Allagui : Root Mean Square Error (RMSE): 0.69\n",
      "Piezometer 2: Delagi : Root Mean Square Error (RMSE): 0.81\n",
      "Piezometer 3: Mohamed Ben Nouiji : Root Mean Square Error (RMSE): 0.74\n",
      "Piezometer 4: Ben Zazia : Root Mean Square Error (RMSE): 0.69\n",
      "Piezometer 5: UCP Ouzra : Root Mean Square Error (RMSE): 0.82\n",
      "Piezometer 6: Ben Saad : Root Mean Square Error (RMSE): 0.54\n",
      "Piezometer 7: Puits public_6582 : Root Mean Square Error (RMSE): 0.83\n",
      "Piezometer 8: Salah Khamar : Root Mean Square Error (RMSE): 0.56\n",
      "Piezometer 9: El Attar : Root Mean Square Error (RMSE): 0.74\n",
      "Piezometer 10: Ali et Med Bel Arbi : Root Mean Square Error (RMSE): 0.86\n",
      "Piezometer 11: UCP Errissala_B : Root Mean Square Error (RMSE): 0.47\n",
      "Piezometer 12: Mohamed Boutnini : Root Mean Square Error (RMSE): 0.9\n",
      "Piezometer 13: Bel Hassen Sahli : Root Mean Square Error (RMSE): 0.93\n",
      "Piezometer 14: Fraj : Root Mean Square Error (RMSE): 0.68\n",
      "Piezometer 15: Huritier Sgaier : Root Mean Square Error (RMSE): 0.56\n",
      "Piezometer 16: Ecole de Police : Root Mean Square Error (RMSE): 0.58\n",
      "Piezometer 17: Puits Public_5779 : Root Mean Square Error (RMSE): 0.61\n",
      "Piezometer 18: Majoul : Root Mean Square Error (RMSE): 0.72\n",
      "Piezometer 19: Mzabi : Root Mean Square Error (RMSE): 0.63\n",
      "Piezometer 20: Hamadi Belarbi : Root Mean Square Error (RMSE): 0.96\n",
      "Piezometer 21: Salah Meziene : Root Mean Square Error (RMSE): 0.76\n",
      "Piezometer 22: Haj Hadi Jani : Root Mean Square Error (RMSE): 0.93\n",
      "Piezometer 23: Bir El Kif : Root Mean Square Error (RMSE): 0.76\n",
      "Piezometer 24: Naceur Dababi : Root Mean Square Error (RMSE): 0.76\n",
      "Piezometer 25: G.O.V.P.F : Root Mean Square Error (RMSE): 0.81\n",
      "Piezometer 26: Ali Hanzouti : Root Mean Square Error (RMSE): 0.62\n",
      "Piezometer 27: Puit OTD : Root Mean Square Error (RMSE): 0.92\n",
      "Piezometer 28: Puits Barrouta : Root Mean Square Error (RMSE): 0.62\n",
      "Piezometer 29: Haj Meftah Allagui : Root Mean Square Error (RMSE): 0.48\n",
      "Piezometer 30: Azaiz ben Attia : Root Mean Square Error (RMSE): 0.75\n",
      "Piezometer 31: Mohamed ben Rouis : Root Mean Square Error (RMSE): 1.31\n",
      "Piezometer 32: UCP Errissala_620 : Root Mean Square Error (RMSE): 0.59\n",
      "Piezometer 33: UCP Ennajah_494 : Root Mean Square Error (RMSE): 0.68\n",
      "Piezometer 34: INRAT : Root Mean Square Error (RMSE): 0.55\n",
      "Piezometer 35: Usine Curamique : Root Mean Square Error (RMSE): 0.76\n",
      "Piezometer 36: UCP Sidi Daoud : Root Mean Square Error (RMSE): 1.17\n",
      "Piezometer 37: Ben Khalifa : Root Mean Square Error (RMSE): 0.52\n",
      "Piezometer 38: INAT Zaouia : Root Mean Square Error (RMSE): 0.85\n",
      "Piezometer 39: Puits Public_3292 : Root Mean Square Error (RMSE): 0.86\n",
      "Piezometer 40: UCP Ennajah_484 : Root Mean Square Error (RMSE): 1.17\n",
      "Piezometer 41: B. Abdallah : Root Mean Square Error (RMSE): 1.08\n",
      "Piezometer 42: Azzouz El Bahri 1 : Root Mean Square Error (RMSE): 0.93\n",
      "Piezometer 43: Sadok Belaid : Root Mean Square Error (RMSE): 0.56\n"
     ]
    },
    {
     "data": {
      "text/plain": [
       "33.149490727345835"
      ]
     },
     "execution_count": 30,
     "metadata": {},
     "output_type": "execute_result"
    }
   ],
   "source": [
    "piezo=Test['Piezometer'].unique()\n",
    "b = []#Dictionary\n",
    "Global=0\n",
    "for i in range(0,len(piezo)):\n",
    "    RMSE=np.sqrt(mean_squared_error(Test.Actual[Test.Piezometer==piezo[i]],Test.Predicted[Test.Piezometer==piezo[i]]))\n",
    "    print(f'Piezometer '+ str(i) + ': '+piezo[i]+f' : Root Mean Square Error (RMSE): {np.round(RMSE, 2)}')\n",
    "    Global+=RMSE\n",
    "    b.append(\n",
    "        {\n",
    "            'Piezometer':piezo[i],\n",
    "            'RMSE':  RMSE\n",
    "        }\n",
    "    )   \n",
    "rmseData=pd.DataFrame(b)#Create a dataframe from the dict\n",
    "Global"
   ]
  },
  {
   "cell_type": "code",
   "execution_count": 31,
   "id": "aeb96886-2191-4798-b5e8-662272337390",
   "metadata": {},
   "outputs": [
    {
     "data": {
      "text/plain": [
       "0.7533975165305872"
      ]
     },
     "execution_count": 31,
     "metadata": {},
     "output_type": "execute_result"
    }
   ],
   "source": [
    "Global/44"
   ]
  },
  {
   "cell_type": "code",
   "execution_count": 32,
   "id": "9b41fc3b-129c-4fdf-bd09-5422af98c053",
   "metadata": {},
   "outputs": [
    {
     "data": {
      "image/png": "[encoded data removed]",
      "text/plain": [
       "<Figure size 864x144 with 1 Axes>"
      ]
     },
     "metadata": {
      "needs_background": "light"
     },
     "output_type": "display_data"
    }
   ],
   "source": [
    "plt.figure(figsize=(12,2))\n",
    "\n",
    "FIG=sns.barplot(x = 'Piezometer',\n",
    "            y = 'RMSE',\n",
    "            data = rmseData)\n",
    "# Show the plot\n",
    "FIG.set_xticklabels(FIG.get_xticklabels(), \n",
    "                          rotation=90, \n",
    "                          horizontalalignment='right')\n",
    "plt.show()"
   ]
  }
 ],
 "metadata": {
  "accelerator": "GPU",
  "celltoolbar": "Format de la Cellule Texte Brut",
  "colab": {
   "collapsed_sections": [
    "89a8f7be",
    "680e6cec",
    "c99bf7c7",
    "2c08d0f0",
    "62a87fb3"
   ],
   "name": "Groundwater Analysis under Climate Change.ipynb",
   "provenance": []
  },
  "gpuClass": "standard",
  "kernelspec": {
   "display_name": "Python 3 (ipykernel)",
   "language": "python",
   "name": "python3"
  },
  "language_info": {
   "codemirror_mode": {
    "name": "ipython",
    "version": 3
   },
   "file_extension": ".py",
   "mimetype": "text/x-python",
   "name": "python",
   "nbconvert_exporter": "python",
   "pygments_lexer": "ipython3",
   "version": "3.9.12"
  }
 },
 "nbformat": 4,
 "nbformat_minor": 5
}
