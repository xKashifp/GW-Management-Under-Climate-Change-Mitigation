{
 "cells": [
  {
   "cell_type": "markdown",
   "id": "eab5c019-fd60-44bd-acb0-8341e921b540",
   "metadata": {},
   "source": [
    "# <center>${\\textbf{Artificial Intelligence Decision Support System}}$<br>${\\textbf{ for Groundwater Management under Climate Change:}}$</center><br><center>${\\textbf{ Application to Mornag Region in Tunisia}}$</center><br><center>${\\textbf{Long-Short Term Memory:LSTM }}$</center>\n"
   ]
  },
  {
   "cell_type": "markdown",
   "id": "3967a1da-255c-4abb-9626-4c83d75359f1",
   "metadata": {},
   "source": [
    "${\\textbf{Abstract}}$\n",
    "The purpose of this research is to investigate the influence of climate change on GroundWater Level (GWL)  in  Mornag plain in Tunisia. Indeed, due to the spatiotemporal variability of RainFall (RF) and temperature, aquifers all over the world have seen significant water level volatility in recent decades. Therefore, for a reliable GroundWater (GW) management under climate change context, it is essential to analyze and estimate the GWL variability. In this study, we focus on the plain of Mornag, located in the southeast of Tunisia, since it contributes with 33% in the national agricultural production. From this plain, we have collected historical piezometric and RF data covering the period 2005-2015. Knowing the RF data, our goal is to forecast the GWL one. This issue has already been studied using classical numerical GW  modeling such as Modflow and Feflow. Unfortunately, these techniques are data and time consuming. To overcome all these drawbacks, we propose to use an Artificial Intelligence (AI) approach that  has shown great performance in literature for recurrent data modeling and forecasting. This approach corresponds to the Long-Short Term Memory (LSTM) Neural Network. Compared with Modflow, LSTM has shown noticeable enhancement in terms of root mean squared error minimization,  which confirms its  adequacy for GWL forecasting. Using the proposed AI prediction model, the impact of climate change on Mornag GWL has been studied under two Representative Concentration Pathway (RCP) scenarios; RCP 4.5 and RCP 8.5 for three future periods: 2015-2040 (short term), 2041-2065 (medium term) and 2066-2100 (long term). As expected, results reveal a future decline of Mornag GWL. The performed study of future Mornag GWL behavior using LSTM  could classify this AI approach  as a good decision support system that could be used to optimize the management of our limited water resources in order to satisfy the population needs in terms of drinking water and agricultural production, as well as to prevent upcoming drought."
   ]
  },
  {
   "cell_type": "markdown",
   "id": "f2b7f66f-ff29-4bee-8daf-73f97ca9ccb6",
   "metadata": {},
   "source": [
    "${\\textbf{Long Short-Term Memory (LSTM) }}$networks are an improved version of the traditional Recurrent Neural Networks (RNNs)that are frequently used to handle sequential data, such as time series. <br>\n",
    "As stated in the literature, RNNs suffer from the vanishing gradient problem during backpropagation, where the gradient gets less and less with every layer, during the network training, until it is too small to reach the deepest levels. This drawback makes basic RNN memory unable to learn past information. <br>\n",
    "Alternatively, LSTMs came to recall long-term dependencies since they were specifically developed to address this issue. With LSTM, training errors retain their values, which overcomes the vanishing gradient problem and allows learning from sequences hundreds of timesteps long . The initial LSTM model consists of a single hidden LSTM layer that could be composed of several Memory Blocks (MBs). A MB like depicted in Fig. 2. (B), which is composed of 3 sigmoid (σ) separate network layers and one hyperbolic tangent (Tanh) one, corresponds to the key contribution of the LSTM neural network, since the decision to consider or throw away information is taken inside. Indeed, the LSTM MB has three gates to govern the information flow; for a given time 𝑡, coupling the input 𝑥 and the 𝑡 output of the previous hidden state ℎ , the forget gate regulates which and how much cell information is 𝑡−1 𝑓 𝑡 forgotten, the input gate 𝑖 controls which inputs are used to update the old cell state (convoying important 𝑡 information) 𝑐 , into the new cell state and as for the output gate it defines which cell memory elements 𝑡−1 𝑐 𝑡 𝑜 𝑡 are used to update the hidden state ℎ of the LSTM cell . <br>\n",
    "Using a unique LSTM model as initially developed, the past information stored inside a sequence is barely captured. Alternatively, one could use the stacked LSTM which is a model expansion that involves several hidden LSTM layers, with many MBs for each of them, enhancing the ability to capture more complicated associations in the dataset. Based on experimentation, in this paper, we propose the stacked LSTM architecture illustrated in Fig. 2. (A) for which two LSTM layers are used, each one consists of 50 MBs. <br>\n",
    "As input, our stacked LSTM model uses 30 timesteps of the encoded sequence X1 to X12 corresponding to our 12 features. The stacked LSTM is followed by a dropout layer in order to reduce overfitting while improving model performance. Finally, we add a Fully-Connected (FC) layer giving rise to the output layer, denoted by Y and corresponding to the GWL in our study.<br>\n",
    "\n",
    "<center><img src=\"../Images/LSTM.png\" width=\"800\" height=\"400\"><center>\n",
    "<center>Illustration of the proposed LSTM Network architecture for GWL forecasting<center><br>"
   ]
  },
  {
   "cell_type": "markdown",
   "id": "199faa89-1752-451b-b811-e8156150caa2",
   "metadata": {},
   "source": [
    "${\\textbf{Importing Libraries}}$"
   ]
  },
  {
   "cell_type": "code",
   "execution_count": 1,
   "id": "53212e1c-71ef-4d1a-9f10-c88c4d77abf6",
   "metadata": {},
   "outputs": [],
   "source": [
    "import warnings\n",
    "warnings.simplefilter(\"ignore\")"
   ]
  },
  {
   "cell_type": "code",
   "execution_count": 2,
   "id": "0af5d8dc-6233-48bb-8937-92dd33f419e7",
   "metadata": {},
   "outputs": [],
   "source": [
    "import numpy as np\n",
    "import pandas as pd"
   ]
  },
  {
   "cell_type": "code",
   "execution_count": 3,
   "id": "ba674016-7932-47f7-9671-b7dca33149b7",
   "metadata": {},
   "outputs": [],
   "source": [
    "import time"
   ]
  },
  {
   "cell_type": "code",
   "execution_count": 4,
   "id": "0114e851-f77a-4a34-8721-faa4f4f28abf",
   "metadata": {},
   "outputs": [],
   "source": [
    "from matplotlib import pyplot as plt"
   ]
  },
  {
   "cell_type": "code",
   "execution_count": 5,
   "id": "70512e3a-d90f-4df3-8035-73a8fdbea647",
   "metadata": {},
   "outputs": [],
   "source": [
    "from sklearn.preprocessing import LabelEncoder\n",
    "from sklearn.preprocessing import MinMaxScaler"
   ]
  },
  {
   "cell_type": "code",
   "execution_count": 6,
   "id": "51ea34d8-77de-4dd8-a1c9-cd17c7b8564c",
   "metadata": {},
   "outputs": [],
   "source": [
    "import tensorflow as tf\n",
    "from tensorflow.keras.callbacks import EarlyStopping # EarlyStopping during model training\n",
    "from tensorflow.keras.models import Sequential\n",
    "from tensorflow.keras.layers import LSTM\n",
    "from tensorflow.keras.layers import Dense, Dropout\n",
    "from keras.wrappers.scikit_learn import KerasRegressor\n",
    "from tensorflow.keras.optimizers import Adam"
   ]
  },
  {
   "cell_type": "code",
   "execution_count": 7,
   "id": "2b49537c-c3aa-49de-a959-1bf80bf11977",
   "metadata": {},
   "outputs": [],
   "source": [
    "from sklearn.metrics import mean_squared_error\n",
    "from sklearn.model_selection import  GridSearchCV"
   ]
  },
  {
   "cell_type": "markdown",
   "id": "cd3d0f66-1747-4e34-92fe-5f82cde5cea7",
   "metadata": {},
   "source": [
    "${\\textbf{Loading data from modeling}}$"
   ]
  },
  {
   "cell_type": "code",
   "execution_count": 8,
   "id": "295df97e-09c5-421f-b200-e17d8520c38c",
   "metadata": {},
   "outputs": [],
   "source": [
    "HistoricalData = pd.read_pickle('.././Pickles/HistoricalData/HistoricalData.pkl')\n",
    "HistoricalData.index=HistoricalData.Time\n",
    "del HistoricalData[\"Time\"]"
   ]
  },
  {
   "cell_type": "code",
   "execution_count": 9,
   "id": "8e601749-6698-4da9-8ade-ebb7b56fcab6",
   "metadata": {},
   "outputs": [],
   "source": [
    "del HistoricalData['Semester']\n",
    "del HistoricalData['Trimester']\n",
    "del HistoricalData['Mensual']"
   ]
  },
  {
   "cell_type": "code",
   "execution_count": 10,
   "id": "914787b8-915b-4c55-ac84-6622713824f7",
   "metadata": {},
   "outputs": [
    {
     "data": {
      "text/plain": [
       "Index(['PZ', 'RG', 'Zone', 'Lat', 'Lon', 'Year', 'Month', 'SPI',\n",
       "       'SPI_Category', 'RFd', 'RFm', 'RFt', 'RFs', 'RFy', 'GWL'],\n",
       "      dtype='object')"
      ]
     },
     "execution_count": 10,
     "metadata": {},
     "output_type": "execute_result"
    }
   ],
   "source": [
    "HistoricalData.columns"
   ]
  },
  {
   "cell_type": "code",
   "execution_count": 11,
   "id": "9861bfc4-5222-4ca8-b7e7-3c55df5a3252",
   "metadata": {},
   "outputs": [],
   "source": [
    "column=['GWL', 'RFm', 'RFt', 'RFs', 'RFy','PZ', 'RG', 'Zone', 'Year', 'Month', 'SPI',\n",
    "       'SPI_Category']#Reindexing\n",
    "HistoricalData=HistoricalData.reindex(column, axis='columns')"
   ]
  },
  {
   "cell_type": "code",
   "execution_count": 12,
   "id": "77855bb9-eb55-489f-b896-d3ba4246c72a",
   "metadata": {},
   "outputs": [
    {
     "data": {
      "text/html": [
       "<div>\n",
       "<style scoped>\n",
       "    .dataframe tbody tr th:only-of-type {\n",
       "        vertical-align: middle;\n",
       "    }\n",
       "\n",
       "    .dataframe tbody tr th {\n",
       "        vertical-align: top;\n",
       "    }\n",
       "\n",
       "    .dataframe thead th {\n",
       "        text-align: right;\n",
       "    }\n",
       "</style>\n",
       "<table border=\"1\" class=\"dataframe\">\n",
       "  <thead>\n",
       "    <tr style=\"text-align: right;\">\n",
       "      <th></th>\n",
       "      <th>GWL</th>\n",
       "      <th>RFm</th>\n",
       "      <th>RFt</th>\n",
       "      <th>RFs</th>\n",
       "      <th>RFy</th>\n",
       "      <th>PZ</th>\n",
       "      <th>RG</th>\n",
       "      <th>Zone</th>\n",
       "      <th>Year</th>\n",
       "      <th>Month</th>\n",
       "      <th>SPI</th>\n",
       "      <th>SPI_Category</th>\n",
       "    </tr>\n",
       "    <tr>\n",
       "      <th>Time</th>\n",
       "      <th></th>\n",
       "      <th></th>\n",
       "      <th></th>\n",
       "      <th></th>\n",
       "      <th></th>\n",
       "      <th></th>\n",
       "      <th></th>\n",
       "      <th></th>\n",
       "      <th></th>\n",
       "      <th></th>\n",
       "      <th></th>\n",
       "      <th></th>\n",
       "    </tr>\n",
       "  </thead>\n",
       "  <tbody>\n",
       "    <tr>\n",
       "      <th>2005-09-01</th>\n",
       "      <td>5.411000</td>\n",
       "      <td>23.6</td>\n",
       "      <td>23.6</td>\n",
       "      <td>212.7</td>\n",
       "      <td>212.7</td>\n",
       "      <td>Ben Zazia</td>\n",
       "      <td>BEN AROUS I MUNICIPA</td>\n",
       "      <td>4</td>\n",
       "      <td>2005</td>\n",
       "      <td>9</td>\n",
       "      <td>-0.236898</td>\n",
       "      <td>Moderately dry</td>\n",
       "    </tr>\n",
       "    <tr>\n",
       "      <th>2005-09-01</th>\n",
       "      <td>9.690000</td>\n",
       "      <td>23.6</td>\n",
       "      <td>23.6</td>\n",
       "      <td>212.7</td>\n",
       "      <td>212.7</td>\n",
       "      <td>Fraj</td>\n",
       "      <td>BEN AROUS I MUNICIPA</td>\n",
       "      <td>4</td>\n",
       "      <td>2005</td>\n",
       "      <td>9</td>\n",
       "      <td>-0.236898</td>\n",
       "      <td>Moderately dry</td>\n",
       "    </tr>\n",
       "    <tr>\n",
       "      <th>2005-09-01</th>\n",
       "      <td>7.503583</td>\n",
       "      <td>23.6</td>\n",
       "      <td>23.6</td>\n",
       "      <td>212.7</td>\n",
       "      <td>212.7</td>\n",
       "      <td>Bir El Kif</td>\n",
       "      <td>BEN AROUS I MUNICIPA</td>\n",
       "      <td>4</td>\n",
       "      <td>2005</td>\n",
       "      <td>9</td>\n",
       "      <td>-0.236898</td>\n",
       "      <td>Moderately dry</td>\n",
       "    </tr>\n",
       "    <tr>\n",
       "      <th>2005-09-01</th>\n",
       "      <td>3.645192</td>\n",
       "      <td>23.6</td>\n",
       "      <td>23.6</td>\n",
       "      <td>212.7</td>\n",
       "      <td>212.7</td>\n",
       "      <td>El Attar</td>\n",
       "      <td>BEN AROUS I MUNICIPA</td>\n",
       "      <td>4</td>\n",
       "      <td>2005</td>\n",
       "      <td>9</td>\n",
       "      <td>-0.236898</td>\n",
       "      <td>Moderately dry</td>\n",
       "    </tr>\n",
       "    <tr>\n",
       "      <th>2005-09-01</th>\n",
       "      <td>1.900000</td>\n",
       "      <td>23.6</td>\n",
       "      <td>23.6</td>\n",
       "      <td>212.7</td>\n",
       "      <td>212.7</td>\n",
       "      <td>Majoul</td>\n",
       "      <td>BEN AROUS I MUNICIPA</td>\n",
       "      <td>4</td>\n",
       "      <td>2005</td>\n",
       "      <td>9</td>\n",
       "      <td>-0.236898</td>\n",
       "      <td>Moderately dry</td>\n",
       "    </tr>\n",
       "    <tr>\n",
       "      <th>...</th>\n",
       "      <td>...</td>\n",
       "      <td>...</td>\n",
       "      <td>...</td>\n",
       "      <td>...</td>\n",
       "      <td>...</td>\n",
       "      <td>...</td>\n",
       "      <td>...</td>\n",
       "      <td>...</td>\n",
       "      <td>...</td>\n",
       "      <td>...</td>\n",
       "      <td>...</td>\n",
       "      <td>...</td>\n",
       "    </tr>\n",
       "    <tr>\n",
       "      <th>2015-04-01</th>\n",
       "      <td>16.681000</td>\n",
       "      <td>0.0</td>\n",
       "      <td>0.0</td>\n",
       "      <td>203.0</td>\n",
       "      <td>265.0</td>\n",
       "      <td>UCP Ouzra</td>\n",
       "      <td>OUZRA AGRI FLORA</td>\n",
       "      <td>1</td>\n",
       "      <td>2015</td>\n",
       "      <td>4</td>\n",
       "      <td>-0.236898</td>\n",
       "      <td>Moderately dry</td>\n",
       "    </tr>\n",
       "    <tr>\n",
       "      <th>2015-04-01</th>\n",
       "      <td>28.783000</td>\n",
       "      <td>0.0</td>\n",
       "      <td>0.0</td>\n",
       "      <td>203.0</td>\n",
       "      <td>265.0</td>\n",
       "      <td>Salah Khamar</td>\n",
       "      <td>OUZRA AGRI FLORA</td>\n",
       "      <td>1</td>\n",
       "      <td>2015</td>\n",
       "      <td>4</td>\n",
       "      <td>-0.236898</td>\n",
       "      <td>Moderately dry</td>\n",
       "    </tr>\n",
       "    <tr>\n",
       "      <th>2015-04-01</th>\n",
       "      <td>18.217970</td>\n",
       "      <td>0.0</td>\n",
       "      <td>0.0</td>\n",
       "      <td>203.0</td>\n",
       "      <td>265.0</td>\n",
       "      <td>Haj Hadi Jani</td>\n",
       "      <td>OUZRA AGRI FLORA</td>\n",
       "      <td>1</td>\n",
       "      <td>2015</td>\n",
       "      <td>4</td>\n",
       "      <td>-0.236898</td>\n",
       "      <td>Moderately dry</td>\n",
       "    </tr>\n",
       "    <tr>\n",
       "      <th>2015-04-01</th>\n",
       "      <td>14.199000</td>\n",
       "      <td>0.0</td>\n",
       "      <td>0.0</td>\n",
       "      <td>203.0</td>\n",
       "      <td>265.0</td>\n",
       "      <td>Azaiz ben Attia</td>\n",
       "      <td>OUZRA AGRI FLORA</td>\n",
       "      <td>1</td>\n",
       "      <td>2015</td>\n",
       "      <td>4</td>\n",
       "      <td>-0.236898</td>\n",
       "      <td>Moderately dry</td>\n",
       "    </tr>\n",
       "    <tr>\n",
       "      <th>2015-04-01</th>\n",
       "      <td>37.940000</td>\n",
       "      <td>0.0</td>\n",
       "      <td>0.0</td>\n",
       "      <td>203.0</td>\n",
       "      <td>265.0</td>\n",
       "      <td>Delagi</td>\n",
       "      <td>OUZRA AGRI FLORA</td>\n",
       "      <td>1</td>\n",
       "      <td>2015</td>\n",
       "      <td>4</td>\n",
       "      <td>-0.236898</td>\n",
       "      <td>Moderately dry</td>\n",
       "    </tr>\n",
       "  </tbody>\n",
       "</table>\n",
       "<p>93600 rows × 12 columns</p>\n",
       "</div>"
      ],
      "text/plain": [
       "                  GWL   RFm   RFt    RFs    RFy               PZ  \\\n",
       "Time                                                               \n",
       "2005-09-01   5.411000  23.6  23.6  212.7  212.7        Ben Zazia   \n",
       "2005-09-01   9.690000  23.6  23.6  212.7  212.7             Fraj   \n",
       "2005-09-01   7.503583  23.6  23.6  212.7  212.7       Bir El Kif   \n",
       "2005-09-01   3.645192  23.6  23.6  212.7  212.7         El Attar   \n",
       "2005-09-01   1.900000  23.6  23.6  212.7  212.7           Majoul   \n",
       "...               ...   ...   ...    ...    ...              ...   \n",
       "2015-04-01  16.681000   0.0   0.0  203.0  265.0        UCP Ouzra   \n",
       "2015-04-01  28.783000   0.0   0.0  203.0  265.0     Salah Khamar   \n",
       "2015-04-01  18.217970   0.0   0.0  203.0  265.0    Haj Hadi Jani   \n",
       "2015-04-01  14.199000   0.0   0.0  203.0  265.0  Azaiz ben Attia   \n",
       "2015-04-01  37.940000   0.0   0.0  203.0  265.0           Delagi   \n",
       "\n",
       "                              RG  Zone  Year  Month       SPI    SPI_Category  \n",
       "Time                                                                           \n",
       "2005-09-01  BEN AROUS I MUNICIPA     4  2005      9 -0.236898  Moderately dry  \n",
       "2005-09-01  BEN AROUS I MUNICIPA     4  2005      9 -0.236898  Moderately dry  \n",
       "2005-09-01  BEN AROUS I MUNICIPA     4  2005      9 -0.236898  Moderately dry  \n",
       "2005-09-01  BEN AROUS I MUNICIPA     4  2005      9 -0.236898  Moderately dry  \n",
       "2005-09-01  BEN AROUS I MUNICIPA     4  2005      9 -0.236898  Moderately dry  \n",
       "...                          ...   ...   ...    ...       ...             ...  \n",
       "2015-04-01      OUZRA AGRI FLORA     1  2015      4 -0.236898  Moderately dry  \n",
       "2015-04-01      OUZRA AGRI FLORA     1  2015      4 -0.236898  Moderately dry  \n",
       "2015-04-01      OUZRA AGRI FLORA     1  2015      4 -0.236898  Moderately dry  \n",
       "2015-04-01      OUZRA AGRI FLORA     1  2015      4 -0.236898  Moderately dry  \n",
       "2015-04-01      OUZRA AGRI FLORA     1  2015      4 -0.236898  Moderately dry  \n",
       "\n",
       "[93600 rows x 12 columns]"
      ]
     },
     "execution_count": 12,
     "metadata": {},
     "output_type": "execute_result"
    }
   ],
   "source": [
    "HistoricalData"
   ]
  },
  {
   "cell_type": "code",
   "execution_count": 13,
   "id": "4eb4a82a-9ce2-4ac4-b3f0-bcfe220f227b",
   "metadata": {},
   "outputs": [],
   "source": [
    "lb_make = LabelEncoder()\n",
    "HistoricalData[\"PZ\"] = lb_make.fit_transform(HistoricalData[\"PZ\"])\n",
    "lb_make1 = LabelEncoder()\n",
    "HistoricalData[\"RG\"] = lb_make1.fit_transform(HistoricalData[\"RG\"])\n",
    "lb_make2 = LabelEncoder()\n",
    "HistoricalData[\"SPI_Category\"] = lb_make2.fit_transform(HistoricalData[\"SPI_Category\"])"
   ]
  },
  {
   "cell_type": "code",
   "execution_count": 14,
   "id": "6c5d6fb3-1f7d-4924-a97f-fa20d77b2d36",
   "metadata": {},
   "outputs": [
    {
     "name": "stdout",
     "output_type": "stream",
     "text": [
      "(93600, 12)\n",
      "<class 'pandas.core.frame.DataFrame'>\n",
      "DatetimeIndex: 93600 entries, 2005-09-01 to 2015-04-01\n",
      "Data columns (total 12 columns):\n",
      " #   Column        Non-Null Count  Dtype  \n",
      "---  ------        --------------  -----  \n",
      " 0   GWL           93600 non-null  float64\n",
      " 1   RFm           93600 non-null  float64\n",
      " 2   RFt           93600 non-null  float64\n",
      " 3   RFs           93600 non-null  float64\n",
      " 4   RFy           93600 non-null  float64\n",
      " 5   PZ            93600 non-null  int32  \n",
      " 6   RG            93600 non-null  int32  \n",
      " 7   Zone          93600 non-null  int64  \n",
      " 8   Year          93600 non-null  int64  \n",
      " 9   Month         93600 non-null  int64  \n",
      " 10  SPI           93600 non-null  float64\n",
      " 11  SPI_Category  93600 non-null  int32  \n",
      "dtypes: float64(6), int32(3), int64(3)\n",
      "memory usage: 8.2 MB\n"
     ]
    }
   ],
   "source": [
    "print(HistoricalData.shape)\n",
    "HistoricalData.info()"
   ]
  },
  {
   "cell_type": "code",
   "execution_count": 15,
   "id": "067edbce-b386-4a42-aed0-07320e87dbc7",
   "metadata": {},
   "outputs": [
    {
     "data": {
      "text/plain": [
       "4680"
      ]
     },
     "execution_count": 15,
     "metadata": {},
     "output_type": "execute_result"
    }
   ],
   "source": [
    "test_split=round(len(HistoricalData)*0.05)\n",
    "test_split"
   ]
  },
  {
   "cell_type": "code",
   "execution_count": 16,
   "id": "bdb61688-b1f9-4d81-834f-5a92543dbe5c",
   "metadata": {},
   "outputs": [
    {
     "name": "stdout",
     "output_type": "stream",
     "text": [
      "(88920, 12)\n",
      "(4680, 12)\n"
     ]
    }
   ],
   "source": [
    "df_for_training=HistoricalData[:-test_split]\n",
    "df_for_testing=HistoricalData[-test_split:]\n",
    "print(df_for_training.shape)\n",
    "print(df_for_testing.shape)"
   ]
  },
  {
   "cell_type": "code",
   "execution_count": 17,
   "id": "48f46c80-af8f-4752-95da-185995832b71",
   "metadata": {},
   "outputs": [
    {
     "data": {
      "text/plain": [
       "array([[0.26471352, 0.07687297, 0.07687297, ..., 1.        , 0.        ,\n",
       "        0.66666667],\n",
       "       [0.33004076, 0.07687297, 0.07687297, ..., 1.        , 0.        ,\n",
       "        0.66666667],\n",
       "       [0.29666087, 0.07687297, 0.07687297, ..., 1.        , 0.        ,\n",
       "        0.66666667],\n",
       "       ...,\n",
       "       [0.47294131, 0.16449511, 0.23941368, ..., 1.        , 0.01714286,\n",
       "        0.33333333],\n",
       "       [0.3469718 , 0.16449511, 0.23941368, ..., 1.        , 0.01714286,\n",
       "        0.33333333],\n",
       "       [0.57583854, 0.16449511, 0.23941368, ..., 1.        , 0.01714286,\n",
       "        0.33333333]])"
      ]
     },
     "execution_count": 17,
     "metadata": {},
     "output_type": "execute_result"
    }
   ],
   "source": [
    "scaler = MinMaxScaler(feature_range=(0,1))\n",
    "df_for_training_scaled = scaler.fit_transform(df_for_training)\n",
    "df_for_testing_scaled=scaler.transform(df_for_testing)\n",
    "df_for_training_scaled"
   ]
  },
  {
   "cell_type": "code",
   "execution_count": 18,
   "id": "d3a057f1-1da6-4b6d-add6-5984ca42a8ff",
   "metadata": {},
   "outputs": [],
   "source": [
    "def createXY(dataset,n_past):\n",
    "    dataX = []\n",
    "    dataY = []\n",
    "    for i in range(n_past, len(dataset)):\n",
    "            dataX.append(dataset[i - n_past:i, 0:dataset.shape[1]])\n",
    "            dataY.append(dataset[i,0])\n",
    "    return np.array(dataX),np.array(dataY)"
   ]
  },
  {
   "cell_type": "code",
   "execution_count": 19,
   "id": "60e4bcc5-2bb1-4685-a800-151023bc96a2",
   "metadata": {},
   "outputs": [],
   "source": [
    "trainX,trainY=createXY(df_for_training_scaled,30)\n",
    "testX,testY=createXY(df_for_testing_scaled,30)"
   ]
  },
  {
   "cell_type": "code",
   "execution_count": 20,
   "id": "da97d4fc-34e7-4cde-b723-29f6ea282e68",
   "metadata": {},
   "outputs": [
    {
     "name": "stdout",
     "output_type": "stream",
     "text": [
      "trainX Shape--  (88890, 30, 12)\n",
      "trainY Shape--  (88890,)\n",
      "testX Shape--  (4650, 30, 12)\n",
      "testY Shape--  (4650,)\n"
     ]
    }
   ],
   "source": [
    "print(\"trainX Shape-- \",trainX.shape)\n",
    "print(\"trainY Shape-- \",trainY.shape)\n",
    "print(\"testX Shape-- \",testX.shape)\n",
    "print(\"testY Shape-- \",testY.shape)"
   ]
  },
  {
   "cell_type": "code",
   "execution_count": 21,
   "id": "36c63e68-e365-44a0-b96c-37c79b013d19",
   "metadata": {},
   "outputs": [
    {
     "data": {
      "text/plain": [
       "(30, 12)"
      ]
     },
     "execution_count": 21,
     "metadata": {},
     "output_type": "execute_result"
    }
   ],
   "source": [
    "trainX.shape[1],trainX.shape[2]"
   ]
  },
  {
   "cell_type": "code",
   "execution_count": 22,
   "id": "e895ade9-1811-42ee-a9e4-bc4fa6aabe81",
   "metadata": {},
   "outputs": [],
   "source": [
    "from keras import backend as K\n",
    "\n",
    "def root_mean_squared_error(y_true, y_pred):\n",
    "        return K.sqrt(K.mean(K.square(y_pred - y_true))) "
   ]
  },
  {
   "cell_type": "code",
   "execution_count": 23,
   "id": "70e152e3-a66f-4e3b-bd42-aa806a2ce8f7",
   "metadata": {},
   "outputs": [],
   "source": [
    "# def build_model():\n",
    "#     model = Sequential()\n",
    "#     model.add(LSTM(128,return_sequences=True,input_shape=(30,12),recurrent_regularizer='l1_l2'))\n",
    "#     model.add(LSTM(16))\n",
    "#     model.add(Dropout(0.1))\n",
    "#     model.add(Dense(1))\n",
    "#     model.compile(loss=root_mean_squared_error, optimizer='adam')\n",
    "#     return model\n",
    "  \n",
    "# grid_model = KerasRegressor(build_fn=build_model,verbose=1,validation_data=(testX,testY))\n",
    "\n",
    "# parameters = {'batch_size' : [32,64,256,512,1024],\n",
    "#               'epochs' : [16,32,64],\n",
    "#              }\n",
    "\n",
    "# grid_search  = GridSearchCV(estimator = grid_model,\n",
    "#                             param_grid = parameters,\n",
    "#                             cv = 5)\n",
    "# grid_result = grid_search.fit(trainX, trainY)\n",
    "\n",
    "# # summarize results\n",
    "# print(\"Best: %f using %s\" % (grid_result.best_score_, grid_result.best_params_))\n",
    "# means = grid_result.cv_results_['mean_test_score']\n",
    "# stds = grid_result.cv_results_['std_test_score']\n",
    "# params = grid_result.cv_results_['params']\n",
    "# for mean, stdev, param in zip(means, stds, params):\n",
    "#     print(\"%f (%f) with: %r\" % (mean, stdev, param))"
   ]
  },
  {
   "cell_type": "code",
   "execution_count": 24,
   "id": "6aff4326-ad3e-4dd9-b00c-bb0c8d2cd15b",
   "metadata": {},
   "outputs": [],
   "source": [
    "epochs_num = 12\n",
    "batch_size=256\n",
    "# learning_rate = 0.0001\n",
    "# decay_rate = 3 * learning_rate / epochs_num\n",
    "# optimizer = Adam(lr=learning_rate, beta_1=0.9, beta_2=0.999, epsilon=None,decay = decay_rate)"
   ]
  },
  {
   "cell_type": "code",
   "execution_count": 25,
   "id": "be57ba25-cf6b-4ef2-83f4-9b7b22bc750d",
   "metadata": {},
   "outputs": [
    {
     "name": "stdout",
     "output_type": "stream",
     "text": [
      "Epoch 1/12\n",
      "348/348 [==============================] - 10s 10ms/step - loss: 1.2767 - val_loss: 0.1322\n",
      "Epoch 2/12\n",
      "348/348 [==============================] - 3s 8ms/step - loss: 0.1639 - val_loss: 0.0956\n",
      "Epoch 3/12\n",
      "348/348 [==============================] - 3s 8ms/step - loss: 0.1172 - val_loss: 0.0824\n",
      "Epoch 4/12\n",
      "348/348 [==============================] - 3s 8ms/step - loss: 0.1046 - val_loss: 0.0756\n",
      "Epoch 5/12\n",
      "348/348 [==============================] - 3s 9ms/step - loss: 0.0960 - val_loss: 0.0595\n",
      "Epoch 6/12\n",
      "348/348 [==============================] - 3s 8ms/step - loss: 0.0900 - val_loss: 0.0591\n",
      "Epoch 7/12\n",
      "348/348 [==============================] - 3s 9ms/step - loss: 0.0826 - val_loss: 0.0699\n",
      "Epoch 8/12\n",
      "348/348 [==============================] - 3s 9ms/step - loss: 0.0752 - val_loss: 0.0669\n",
      "Epoch 9/12\n",
      "348/348 [==============================] - 3s 8ms/step - loss: 0.0678 - val_loss: 0.0601\n",
      "Epoch 10/12\n",
      "348/348 [==============================] - 3s 8ms/step - loss: 0.0635 - val_loss: 0.0628\n",
      "Epoch 11/12\n",
      "348/348 [==============================] - 3s 9ms/step - loss: 0.0610 - val_loss: 0.0722\n",
      "Epoch 12/12\n",
      "348/348 [==============================] - 3s 8ms/step - loss: 0.0578 - val_loss: 0.0615\n"
     ]
    }
   ],
   "source": [
    "model = Sequential()\n",
    "model.add(LSTM(64,return_sequences=True,input_shape=(30,12),recurrent_regularizer='l1_l2'))\n",
    "model.add(LSTM(64))\n",
    "model.add(Dropout(0.2))\n",
    "model.add(Dense(1))\n",
    "model.compile(loss=root_mean_squared_error, optimizer='adam')\n",
    "start_time = time.time()\n",
    "history=model.fit(trainX, trainY, epochs=epochs_num, batch_size=batch_size, verbose=1, validation_data=(testX,testY))\n",
    "dt_timeLSTM= (time.time() - start_time)"
   ]
  },
  {
   "cell_type": "code",
   "execution_count": 26,
   "id": "1445687a-4f31-4085-95bc-a16dae752dc7",
   "metadata": {},
   "outputs": [
    {
     "data": {
      "text/plain": [
       "41.94701647758484"
      ]
     },
     "execution_count": 26,
     "metadata": {},
     "output_type": "execute_result"
    }
   ],
   "source": [
    "dt_timeLSTM"
   ]
  },
  {
   "cell_type": "code",
   "execution_count": 27,
   "id": "ea412db1-7070-4f60-adc7-3227a21a8632",
   "metadata": {},
   "outputs": [
    {
     "name": "stdout",
     "output_type": "stream",
     "text": [
      "146/146 [==============================] - 1s 3ms/step\n",
      "prediction\n",
      " [[0.37378255]\n",
      " [0.57032144]\n",
      " [0.7521187 ]\n",
      " ...\n",
      " [0.44891703]\n",
      " [0.49965894]\n",
      " [0.7478181 ]]\n",
      "\n",
      "Prediction Shape- (4650, 1)\n"
     ]
    }
   ],
   "source": [
    "prediction=history.model.predict(testX)\n",
    "print(\"prediction\\n\", prediction)\n",
    "print(\"\\nPrediction Shape-\",prediction.shape)"
   ]
  },
  {
   "cell_type": "code",
   "execution_count": 28,
   "id": "5afeb1e9-55b4-4ef5-8d52-4c471c616dfc",
   "metadata": {},
   "outputs": [],
   "source": [
    "prediction_copies_array = np.repeat(prediction,12, axis=-1)"
   ]
  },
  {
   "cell_type": "code",
   "execution_count": 29,
   "id": "62f37c30-a114-4a99-86fc-dfc6f1acdee8",
   "metadata": {},
   "outputs": [],
   "source": [
    "pred=scaler.inverse_transform(np.reshape(prediction_copies_array,(len(prediction),12)))[:,0]"
   ]
  },
  {
   "cell_type": "code",
   "execution_count": 30,
   "id": "8824f168-b16b-43e0-ac3d-38ca9a675574",
   "metadata": {},
   "outputs": [],
   "source": [
    "original_copies_array = np.repeat(testY,12, axis=-1)\n",
    "original=scaler.inverse_transform(np.reshape(original_copies_array,(len(testY),12)))[:,0]"
   ]
  },
  {
   "cell_type": "code",
   "execution_count": 31,
   "id": "ef1c6789-156a-4e7c-8561-296f86180ad6",
   "metadata": {},
   "outputs": [
    {
     "name": "stdout",
     "output_type": "stream",
     "text": [
      "Pred Values--  [12.55513  25.428625 37.336525 ... 17.476515 20.800161 37.054832]\n",
      "\n",
      "Original Values--  [10.799     25.79      36.093     ... 18.2179703 14.199     37.94     ]\n"
     ]
    }
   ],
   "source": [
    "print(\"Pred Values-- \" ,pred)\n",
    "print(\"\\nOriginal Values-- \" ,original)"
   ]
  },
  {
   "cell_type": "code",
   "execution_count": 32,
   "id": "e6bd34d8-f6a4-4ab4-9a55-17bb5f77b643",
   "metadata": {},
   "outputs": [
    {
     "data": {
      "text/plain": [
       "2.8339856872803755"
      ]
     },
     "execution_count": 32,
     "metadata": {},
     "output_type": "execute_result"
    }
   ],
   "source": [
    "np.sqrt(mean_squared_error(pred,original))"
   ]
  },
  {
   "cell_type": "code",
   "execution_count": 33,
   "id": "cbf9adf6-2b82-466a-ba47-8c294ef49fd8",
   "metadata": {},
   "outputs": [
    {
     "data": {
      "text/plain": [
       "<Figure size 864x864 with 0 Axes>"
      ]
     },
     "metadata": {},
     "output_type": "display_data"
    },
    {
     "data": {
      "image/png": "[encoded data removed]",
      "text/plain": [
       "<Figure size 864x864 with 1 Axes>"
      ]
     },
     "metadata": {
      "needs_background": "light"
     },
     "output_type": "display_data"
    }
   ],
   "source": [
    "# acc = history.history['accuracy']\n",
    "# val_acc = history.history['val_accuracy']\n",
    "\n",
    "loss = history.history['loss']\n",
    "val_loss = history.history['val_loss']\n",
    "\n",
    "\n",
    "plt.figure(figsize=(12, 12))\n",
    "\n",
    "# plt.subplot(2, 1, 1)\n",
    "# plt.plot(acc, label='Training Accuracy', color='r')\n",
    "# plt.plot(val_acc, label='Validation Accuracy', color='b')\n",
    "# plt.xticks(fontsize=14)\n",
    "# plt.yticks(fontsize=14)\n",
    "# plt.legend(loc='lower right', fontsize=13)\n",
    "# plt.ylabel('accuracy', fontsize=16, weight='bold')\n",
    "# plt.title('LSTM - Training & Validation accuracy.', fontsize=16, weight='bold')\n",
    "\n",
    "loss = history.history['loss']\n",
    "val_loss = history.history['val_loss']\n",
    "\n",
    "\n",
    "plt.figure(figsize=(12, 12))\n",
    "plt.subplot(2, 1, 2)\n",
    "plt.plot(loss, label='Training Loss', color='r')\n",
    "plt.plot(val_loss, label='Validation Loss', color='b')\n",
    "plt.xticks(fontsize=14)\n",
    "plt.yticks(fontsize=14)\n",
    "plt.legend(loc='upper right', fontsize=13)\n",
    "plt.ylabel('Cross Entropy', fontsize=16, weight='bold')\n",
    "plt.title('LSTM - Training & Validation Loss', fontsize=15, weight='bold')\n",
    "# plt.yscale('log')\n",
    "plt.xlabel('Epoch', fontsize=15, weight='bold')\n",
    "\n",
    "plt.show()"
   ]
  },
  {
   "cell_type": "code",
   "execution_count": 35,
   "id": "b11a487a-cf26-4d6b-94f0-3a087fdf7452",
   "metadata": {},
   "outputs": [],
   "source": [
    "history.model.save('.././Pickles/Models/LSTM_NN.h5')\n",
    "np.save('.././Pickles/Models/history.npy',history.history)\n",
    "# history=np.load('my_history.npy',allow_pickle='TRUE').item()\n",
    "# Recreate the exact same model, including its weights and the optimizer\n",
    "# new_model = tf.keras.models.load_model('my_modelLSTM.h5')\n",
    "\n",
    "# # Show the model architecture\n",
    "# new_model.summary()"
   ]
  }
 ],
 "metadata": {
  "kernelspec": {
   "display_name": "Python 3 (ipykernel)",
   "language": "python",
   "name": "python3"
  },
  "language_info": {
   "codemirror_mode": {
    "name": "ipython",
    "version": 3
   },
   "file_extension": ".py",
   "mimetype": "text/x-python",
   "name": "python",
   "nbconvert_exporter": "python",
   "pygments_lexer": "ipython3",
   "version": "3.9.12"
  }
 },
 "nbformat": 4,
 "nbformat_minor": 5
}
